{
 "cells": [
  {
   "cell_type": "code",
   "execution_count": 2,
   "metadata": {},
   "outputs": [],
   "source": [
    "import pandas as pd\n",
    "from datetime import timedelta, datetime"
   ]
  },
  {
   "cell_type": "markdown",
   "metadata": {},
   "source": [
    "Only one row has duplicated data in \"address\", but it's identifiable by \"block hash\"\n",
    "Create constraint in postgres to prevent duplicates\n"
   ]
  },
  {
   "cell_type": "code",
   "execution_count": null,
   "metadata": {},
   "outputs": [],
   "source": []
  },
  {
   "cell_type": "code",
   "execution_count": 3,
   "metadata": {},
   "outputs": [],
   "source": [
    "path = \"C:/Users/Adriano/Downloads/bquxjob_1a93124d_19118612d01.csv\""
   ]
  },
  {
   "cell_type": "code",
   "execution_count": 4,
   "metadata": {},
   "outputs": [],
   "source": [
    "df_full = pd.read_csv(path)"
   ]
  },
  {
   "cell_type": "code",
   "execution_count": 20,
   "metadata": {},
   "outputs": [
    {
     "name": "stdout",
     "output_type": "stream",
     "text": [
      "<class 'pandas.core.frame.DataFrame'>\n",
      "RangeIndex: 46897 entries, 0 to 46896\n",
      "Data columns (total 8 columns):\n",
      " #   Column           Non-Null Count  Dtype         \n",
      "---  ------           --------------  -----         \n",
      " 0   address          46897 non-null  object        \n",
      " 1   symbol           42838 non-null  object        \n",
      " 2   name             42991 non-null  object        \n",
      " 3   decimals         43455 non-null  float64       \n",
      " 4   total_supply     45725 non-null  object        \n",
      " 5   block_timestamp  46897 non-null  datetime64[ns]\n",
      " 6   block_number     46897 non-null  int64         \n",
      " 7   block_hash       46897 non-null  object        \n",
      "dtypes: datetime64[ns](1), float64(1), int64(1), object(5)\n",
      "memory usage: 2.9+ MB\n",
      "None\n",
      "46897\n"
     ]
    }
   ],
   "source": [
    "print(df_full.info())\n",
    "print(len(df_full))"
   ]
  },
  {
   "cell_type": "code",
   "execution_count": 6,
   "metadata": {},
   "outputs": [
    {
     "name": "stdout",
     "output_type": "stream",
     "text": [
      "2024-08-03 06:46:23.000000 UTC\n",
      "2016-01-28 14:01:48.000000 UTC\n",
      "2024-07-27 00:00:00\n"
     ]
    }
   ],
   "source": [
    "max = df_full[\"block_timestamp\"].max()\n",
    "min = df_full[\"block_timestamp\"].min()\n",
    "\n",
    "\n",
    "print(max)\n",
    "print(min)\n",
    "\n",
    "date_format = \"%Y-%m-%d\" # %H:%M:%S.%f\"\n",
    "\n",
    "one_week = datetime.strptime(max[:10], date_format)+timedelta(days=-7)\n",
    "print(one_week)"
   ]
  },
  {
   "cell_type": "code",
   "execution_count": 7,
   "metadata": {},
   "outputs": [],
   "source": [
    "df_dt_parsed = df_full\n",
    "df_dt_parsed['block_timestamp'] = df_dt_parsed['block_timestamp'].map(lambda x: datetime.strptime(x[:10], date_format))"
   ]
  },
  {
   "cell_type": "code",
   "execution_count": 8,
   "metadata": {},
   "outputs": [
    {
     "data": {
      "text/plain": [
       "count                            46897\n",
       "mean     2019-04-16 13:52:36.764825088\n",
       "min                2016-01-28 00:00:00\n",
       "25%                2018-04-04 00:00:00\n",
       "50%                2018-11-04 00:00:00\n",
       "75%                2019-12-10 00:00:00\n",
       "max                2024-08-03 00:00:00\n",
       "Name: block_timestamp, dtype: object"
      ]
     },
     "execution_count": 8,
     "metadata": {},
     "output_type": "execute_result"
    }
   ],
   "source": [
    "df_dt_parsed['block_timestamp'].describe()"
   ]
  },
  {
   "cell_type": "code",
   "execution_count": 9,
   "metadata": {},
   "outputs": [],
   "source": [
    "df_filtered = df_dt_parsed[df_dt_parsed['block_timestamp'] >= one_week]"
   ]
  },
  {
   "cell_type": "code",
   "execution_count": 10,
   "metadata": {},
   "outputs": [
    {
     "name": "stdout",
     "output_type": "stream",
     "text": [
      "  block_timestamp  count\n",
      "0      2024-07-27      8\n",
      "1      2024-07-28     16\n",
      "2      2024-07-29      9\n",
      "3      2024-07-30      2\n",
      "4      2024-07-31      3\n",
      "5      2024-08-01      2\n",
      "6      2024-08-02      2\n",
      "7      2024-08-03      5\n"
     ]
    }
   ],
   "source": [
    "df_final = df_filtered.groupby(\"block_timestamp\").size().reset_index(name=\"count\")\n",
    "print(df_final)"
   ]
  },
  {
   "cell_type": "code",
   "execution_count": 11,
   "metadata": {},
   "outputs": [
    {
     "name": "stdout",
     "output_type": "stream",
     "text": [
      "46897\n"
     ]
    }
   ],
   "source": [
    "print(len(df_dt_parsed.drop_duplicates()))"
   ]
  },
  {
   "cell_type": "code",
   "execution_count": 19,
   "metadata": {},
   "outputs": [
    {
     "name": "stdout",
     "output_type": "stream",
     "text": [
      "                                          address  count\n",
      "46731  0xff0cca1818ddc0d66b53a96a9aa8bda9043e1437      2\n",
      "0      0x000000030ef899748633e152920068c75a5f48b6      1\n",
      "31266  0xaa7efc50c05f5440cca514ed175e286b175c486f      1\n",
      "31258  0xaa6c4ef4856e3def10f2896facad4659f08b4cd2      1\n",
      "31259  0xaa6da59f02ac6335ff0dbb896323181a8431a675      1\n",
      "...                                           ...    ...\n",
      "15633  0x543bf6d8f1afba861b0ef178fa1f5c4ea9ebac09      1\n",
      "15634  0x5440ba85e9a2c380025e663a89662ab04dff3248      1\n",
      "15635  0x54420565273f961d8b8c8f74b21aca7d85d44a59      1\n",
      "15636  0x54437603c79fed354bc26b6ce051b487fab187fc      1\n",
      "46895  0xffffe5b9cb42b4996997c9262f38d5f1f6a86fb7      1\n",
      "\n",
      "[46896 rows x 2 columns]\n"
     ]
    }
   ],
   "source": [
    "print(df_dt_parsed.groupby(\"address\").size().reset_index(name=\"count\").sort_values(by=\"count\", ascending=False))"
   ]
  },
  {
   "cell_type": "code",
   "execution_count": 13,
   "metadata": {},
   "outputs": [
    {
     "name": "stdout",
     "output_type": "stream",
     "text": [
      "                                          address symbol        name  \\\n",
      "17643  0xff0cca1818ddc0d66b53a96a9aa8bda9043e1437  yLink  Yearn Link   \n",
      "39439  0xff0cca1818ddc0d66b53a96a9aa8bda9043e1437  yLink  Yearn Link   \n",
      "\n",
      "       decimals                  total_supply block_timestamp  block_number  \\\n",
      "17643      18.0  1000000000000000000000000000      2021-03-29      12133335   \n",
      "39439      18.0  1000000000000000000000000000      2021-03-29      12133416   \n",
      "\n",
      "                                              block_hash  \n",
      "17643  0xf6d43c38f4b7d2b65f6b4a8e5932dee72ea9cd0e71cf...  \n",
      "39439  0x488bfc92cfd0166790f4c197d790648d5152d27d7470...  \n"
     ]
    }
   ],
   "source": [
    "print(df_dt_parsed[df_dt_parsed[\"address\"] == \"0xff0cca1818ddc0d66b53a96a9aa8bda9043e1437\"])"
   ]
  },
  {
   "cell_type": "code",
   "execution_count": null,
   "metadata": {},
   "outputs": [],
   "source": []
  }
 ],
 "metadata": {
  "kernelspec": {
   "display_name": ".env",
   "language": "python",
   "name": "python3"
  },
  "language_info": {
   "codemirror_mode": {
    "name": "ipython",
    "version": 3
   },
   "file_extension": ".py",
   "mimetype": "text/x-python",
   "name": "python",
   "nbconvert_exporter": "python",
   "pygments_lexer": "ipython3",
   "version": "3.12.4"
  }
 },
 "nbformat": 4,
 "nbformat_minor": 2
}
